{
 "cells": [
  {
   "cell_type": "markdown",
   "metadata": {},
   "source": [
    "# 回归算法相关模型参数说明"
   ]
  },
  {
   "cell_type": "code",
   "execution_count": 1,
   "metadata": {
    "collapsed": true
   },
   "outputs": [],
   "source": [
    "import sklearn\n",
    "from sklearn.linear_model import LinearRegression\n",
    "from sklearn.linear_model import LogisticRegression, LogisticRegressionCV\n",
    "from sklearn.linear_model import Lasso, LassoCV, Ridge\n",
    "from sklearn.linear_model import RidgeCV, ElasticNet, ElasticNetCV\n",
    "\n",
    "import numpy as np\n",
    "import matplotlib as mpl\n",
    "import matplotlib.pyplot as plt\n",
    "import pandas as pd"
   ]
  },
  {
   "cell_type": "code",
   "execution_count": 42,
   "metadata": {
    "collapsed": false
   },
   "outputs": [
    {
     "name": "stdout",
     "output_type": "stream",
     "text": [
      "(100, 1)\n",
      "(100, 1)\n"
     ]
    }
   ],
   "source": [
    "# 创建模拟数据\n",
    "np.random.seed(28)\n",
    "np.set_printoptions(linewidth=1000, suppress=True)\n",
    "x = np.linspace(-8, 8, 100) + np.random.randn(100)\n",
    "y = 1.8 * x ** 3 + 0.5 * x ** 2 - 13 * x + np.random.randn(100) * 30\n",
    "x = x.reshape((-1, 1))\n",
    "y = y.reshape((-1, 1))\n",
    "\n",
    "print(x.shape)\n",
    "print(y.shape)"
   ]
  },
  {
   "cell_type": "code",
   "execution_count": 43,
   "metadata": {
    "collapsed": false
   },
   "outputs": [
    {
     "data": {
      "image/png": "[encoded data removed]",
      "text/plain": [
       "<matplotlib.figure.Figure at 0x76703b41d0>"
      ]
     },
     "metadata": {},
     "output_type": "display_data"
    }
   ],
   "source": [
    "# 画图\n",
    "plt.plot(x, y, 'bo', markersize=2)\n",
    "plt.show()"
   ]
  },
  {
   "cell_type": "code",
   "execution_count": 56,
   "metadata": {
    "collapsed": false
   },
   "outputs": [
    {
     "name": "stdout",
     "output_type": "stream",
     "text": [
      "参数列表:[[63.44309882]]\n",
      "截距项:[5.03697953]\n"
     ]
    },
    {
     "data": {
      "image/png": "[encoded data removed]",
      "text/plain": [
       "<matplotlib.figure.Figure at 0x766b286748>"
      ]
     },
     "metadata": {},
     "output_type": "display_data"
    }
   ],
   "source": [
    "# 进行模型训练(LinearRegression)\n",
    "\"\"\"\n",
    "参数说明:\n",
    "fit_intercept: 最终生成的模型中是否包含截距项，默认为True，表示包含截距项\n",
    "normalize: 默认为False，参数含义是在进行线性回归模型构建之前，是否对数据进行标准化/归一化操作；建议通过StandardScaler进行归一化操作，而不是通过该参数。\n",
    "copy_X：在模型训练的过程中，对于X特征矩阵是否进行copy复制操作，默认为True，表示进行\n",
    "n_jobs: 指定使用并行执行的作业数，设置为-1表示使用所有cpu来计算，设置成大于1的一个值，表示进行并行的计算构建；一般情况下不建议修改。默认为1.\n",
    "\"\"\"\n",
    "# 1. 算法/模型对象构建\n",
    "lr = LinearRegression(fit_intercept=True, normalize=False, copy_X=True, n_jobs=1)\n",
    "\n",
    "\"\"\"\n",
    "参数说明：\n",
    "x: 给定模型训练的X数据，是一个矩阵类型\n",
    "y: 给定模型训练的Y数据，也是一个矩阵类型\n",
    "sample_weight: 给定训练数据中每个样本的权重，参数可选\n",
    "\"\"\"\n",
    "# 2. 算法/模型对象训练\n",
    "lr.fit(x, y)\n",
    "\n",
    "\"\"\"\n",
    "属性说明：\n",
    "residues_：模型的残差之和，该属性无用，在以后版本中会被删除\n",
    "coef_: 参数值，也就是训练出来的theta值列表\n",
    "intercept_：截距项\n",
    "\"\"\"\n",
    "# 3. 算法/模型对象相关属性输出\n",
    "print(\"参数列表:\", end=\"\")\n",
    "print(lr.coef_)\n",
    "print(\"截距项:\", end=\"\")\n",
    "print(lr.intercept_)\n",
    "\n",
    "# 4. 画图\n",
    "plt.plot(x, y, 'bo', markersize=2)\n",
    "plt.plot(x, lr.predict(x), 'y-', lw=2)\n",
    "plt.show()"
   ]
  },
  {
   "cell_type": "code",
   "execution_count": 79,
   "metadata": {
    "collapsed": false
   },
   "outputs": [
    {
     "name": "stdout",
     "output_type": "stream",
     "text": [
      "参数列表:[63.39832618]\n",
      "截距项:[5.03524091]\n",
      "迭代次数:2\n"
     ]
    },
    {
     "data": {
      "image/png": "[encoded data removed]",
      "text/plain": [
       "<matplotlib.figure.Figure at 0x7670a6d518>"
      ]
     },
     "metadata": {},
     "output_type": "display_data"
    }
   ],
   "source": [
    "# 进行模型训练(Lasso, LassoCV)\n",
    "\"\"\"\n",
    "算法描述：\n",
    "Lasso是在线性回归的基础上，加入L1正则项后的模型算法\n",
    "LassoCV是Lasso算法和交叉验证的一个结合算法；主要用于寻找适合的Lasso相关超参数\n",
    "备注：Lasso算法中只有一个超参数，就是兰姆达(lambda)，主要作用是给定L1正则项对目标函数的影响因子\n",
    "\"\"\"\n",
    "\"\"\"\n",
    "参数说明：\n",
    "alpha：既超参数lambda，L1-norm的正则项因子\n",
    "fit_intercept: 最终生成的模型中是否包含截距项，默认为True，表示包含截距项\n",
    "normalize: 默认为False，参数含义是在进行线性回归模型构建之前，是否对数据进行标准化/归一化操作；建议通过StandardScaler进行归一化操作，而不是通过该参数。\n",
    "copy_X：在模型训练的过程中，对于X特征矩阵是否进行copy复制操作，默认为True，表示进行复制\n",
    "precompute: 默认为False， 是否进行预计算，默认是不进行预计算操作。\n",
    "n_jobs: 指定使用并行执行的作业数，设置为-1表示使用所有cpu来计算，设置成大于1的一个值，表示进行并行的计算构建；一般情况下不建议修改。默认为1.\n",
    "max_iter: 计算过程中的最大迭代次数\n",
    "tol：优化阈值，当两次模型之间的损失值小于该值的时候，结束迭代\n",
    "warm_start：如果设置为True，表示使用上个Lasso模型的解决方案作为初始值，否则重新构建；默认为False\n",
    "positive：如果设置为True，那么模型强制要求参数必须为正数，默认为False\n",
    "random_state: 随机数种子，默认为空\n",
    "selection： 可选值\"random\"和\"cyclic\"， 默认为cyclic；给定模型训练参数过程中的特征参数更新过程，random表示每次迭代都随机的更新一个参数，cyclic表示按照特征的循环进行更新处理。random可以加快收敛速度，但是cyclic更加稳定。\n",
    "\"\"\"\n",
    "# 1. 算法/模型对象构建\n",
    "ls = Lasso(alpha=1.0, fit_intercept=True, normalize=False,\n",
    "           precompute=False, copy_X=True, max_iter=1000,\n",
    "           tol=1e-4, warm_start=False, positive=False,\n",
    "           random_state=None, selection='cyclic')\n",
    "\"\"\"\n",
    "参数说明：\n",
    "基本参数同Lasso\n",
    "eps：给定alpha_min / alpha_max = eps，给定最小的aplha和最大的aplha之间的倍数关系；该参数在随机alpha的时候有效\n",
    "n_alphas：给定随机alpha值的时候，aplha值的数量；该参数在随机alpha的时候有效\n",
    "alphas：代码给定alphas的可选参数列表，当给定该参数的时候，eps和n_alphas参数无效\n",
    "cv：给定进行交叉验证时候的进行几折交叉，默认随机。\n",
    "\"\"\"\n",
    "# ls = LassoCV(self, eps=1e-3, n_alphas=100, alphas=None, fit_intercept=True,\n",
    "#              normalize=False, precompute='auto', max_iter=1000, tol=1e-4,\n",
    "#              copy_X=True, cv=None, verbose=False, n_jobs=1,\n",
    "#              positive=False, random_state=None, selection='cyclic')\n",
    "\n",
    "\"\"\"\n",
    "参数说明：\n",
    "x: 给定模型训练的X数据，是一个矩阵类型\n",
    "y: 给定模型训练的Y数据，也是一个矩阵类型\n",
    "check_input: 是否检查输入，默认为True\n",
    "\"\"\"\n",
    "# 2. 算法/模型对象训练\n",
    "ls.fit(x, y)\n",
    "\n",
    "\"\"\"\n",
    "属性说明：\n",
    "coef_: 参数值，也就是训练出来的theta值列表\n",
    "intercept_：截距项\n",
    "n_iter_: 迭代次数\n",
    "\"\"\"\n",
    "# 3. 算法/模型对象相关属性输出\n",
    "print(\"参数列表:\", end=\"\")\n",
    "print(ls.coef_)\n",
    "print(\"截距项:\", end=\"\")\n",
    "print(ls.intercept_)\n",
    "print(\"迭代次数:\", end=\"\")\n",
    "print(ls.n_iter_)\n",
    "\n",
    "# 4. 画图\n",
    "plt.plot(x, y, 'bo', markersize=2)\n",
    "plt.plot(x, ls.predict(x), 'y-', lw=2)\n",
    "plt.show()"
   ]
  },
  {
   "cell_type": "code",
   "execution_count": 83,
   "metadata": {
    "collapsed": false
   },
   "outputs": [
    {
     "name": "stdout",
     "output_type": "stream",
     "text": [
      "参数列表:[[63.41470638]]\n",
      "截距项:[5.03587699]\n",
      "迭代次数:None\n"
     ]
    },
    {
     "data": {
      "image/png": "[encoded data removed]",
      "text/plain": [
       "<matplotlib.figure.Figure at 0x76705c5668>"
      ]
     },
     "metadata": {},
     "output_type": "display_data"
    }
   ],
   "source": [
    "# 进行模型训练(Ridge, RidgeCV)\n",
    "\"\"\"\n",
    "算法描述：\n",
    "Ridge是在线性回归的基础上，加入L2正则项后的模型算法\n",
    "RidgeCV是Ridge算法和交叉验证的一个结合算法；主要用于寻找适合的Ridge相关超参数\n",
    "备注：Ridge算法中只有一个超参数，就是兰姆达(lambda)，主要作用是给定L2正则项对目标函数的影响因子\n",
    "\"\"\"\n",
    "\"\"\"\n",
    "参数说明：\n",
    "alpha：既超参数lambda，L2-norm的正则项因子\n",
    "fit_intercept: 最终生成的模型中是否包含截距项，默认为True，表示包含截距项\n",
    "normalize: 默认为False，参数含义是在进行线性回归模型构建之前，是否对数据进行标准化/归一化操作；建议通过StandardScaler进行归一化操作，而不是通过该参数。\n",
    "copy_X：在模型训练的过程中，对于X特征矩阵是否进行copy复制操作，默认为True，表示进行复制\n",
    "max_iter: 计算过程中的最大迭代次数\n",
    "tol：优化阈值，当两次模型之间的损失值小于该值的时候，结束迭代\n",
    "random_state: 随机数种子，默认为空\n",
    "solver: 求解方式，可选参数：{'auto', 'svd', 'cholesky', 'lsqr', 'sparse_cg', 'sag'}；svd：通过SVD矩阵分解来求解；cholesky:使用scipy.linalg.solve来求解(不建议)；lsqr: 通过QR矩阵分解来求解；sparse_cg：使用共轭梯度法(梯度法的一种变种)来求解，需要给定tol和max_iter参数，在大规模数据集的时候比较适合；sag: 使用随机平均梯度下降法求解，类似随机梯度下降法；auto: 会根据数据特征选择任何一种解决方案，当x是稠密矩阵的时候，并且数据量不大的情况下，选择svd；当数据量很大的时候选择sparse_cg；当数据量不大，或者需要构造截距项的时候，使用sag。\n",
    "\"\"\"\n",
    "# 1. 算法/模型对象构建\n",
    "rd = Ridge(alpha=1.0, fit_intercept=True, normalize=False,\n",
    "           copy_X=True, max_iter=None, tol=1e-3, solver=\"auto\",\n",
    "           random_state=None)\n",
    "\n",
    "\"\"\"\n",
    "参数说明：\n",
    "x: 给定模型训练的X数据，是一个矩阵类型\n",
    "y: 给定模型训练的Y数据，也是一个矩阵类型\n",
    "sample_weight: 给定训练数据中每个样本的权重，参数可选\n",
    "\"\"\"\n",
    "# 2. 算法/模型对象训练\n",
    "rd.fit(x, y)\n",
    "\n",
    "\"\"\"\n",
    "属性说明：\n",
    "coef_: 参数值，也就是训练出来的theta值列表\n",
    "intercept_：截距项\n",
    "n_iter_: 迭代次数\n",
    "\"\"\"\n",
    "# 3. 算法/模型对象相关属性输出\n",
    "print(\"参数列表:\", end=\"\")\n",
    "print(rd.coef_)\n",
    "print(\"截距项:\", end=\"\")\n",
    "print(rd.intercept_)\n",
    "print(\"迭代次数:\", end=\"\")\n",
    "print(rd.n_iter_)\n",
    "\n",
    "# 4. 画图\n",
    "plt.plot(x, y, 'bo', markersize=2)\n",
    "plt.plot(x, rd.predict(x), 'y-', lw=2)\n",
    "plt.show()"
   ]
  },
  {
   "cell_type": "code",
   "execution_count": 115,
   "metadata": {
    "collapsed": false
   },
   "outputs": [
    {
     "name": "stdout",
     "output_type": "stream",
     "text": [
      "参数列表:[62.03204314]\n",
      "截距项:[4.98218509]\n",
      "迭代次数:2\n"
     ]
    },
    {
     "data": {
      "image/png": "[encoded data removed]",
      "text/plain": [
       "<matplotlib.figure.Figure at 0x766af86eb8>"
      ]
     },
     "metadata": {},
     "output_type": "display_data"
    }
   ],
   "source": [
    "# 进行模型训练(ElasticNet, ElasticNetCV)\n",
    "\"\"\"\n",
    "算法描述：\n",
    "ElasticNet是Lasso和Ridge算法的合并\n",
    "ElasticNetCV是ElasticNet算法和交叉验证的一个结合算法；主要用于寻找适合的ElasticNet相关超参数\n",
    "备注：ElasticNet算法中有两个超参数，就是兰姆达(lambda)和p，lambda的作用是给定正则项对目标函数的影响，p是给定L1正则项在正则项中的所在比例。\n",
    "备注：ElasticNetCV中的参数和LassoCV的参数类型，主要就是：alphas和cv\n",
    "\"\"\"\n",
    "\"\"\"\n",
    "参数说明：\n",
    "alpha：既超参数lambda，正则项因子\n",
    "l1_ratio: 给定在正则项中，L1-norm的比重，默认0.5\n",
    "fit_intercept: 最终生成的模型中是否包含截距项，默认为True，表示包含截距项\n",
    "normalize: 默认为False，参数含义是在进行线性回归模型构建之前，是否对数据进行标准化/归一化操作；建议通过StandardScaler进行归一化操作，而不是通过该参数。\n",
    "precompute: 默认为False， 是否进行预计算，默认是不进行预计算操作。\n",
    "max_iter: 计算过程中的最大迭代次数\n",
    "tol：优化阈值，当两次模型之间的损失值小于该值的时候，结束迭代\n",
    "warm_start：如果设置为True，表示使用上个Lasso模型的解决方案作为初始值，否则重新构建；默认为False\n",
    "positive：如果设置为True，那么模型强制要求参数必须为正数，默认为False\n",
    "random_state: 随机数种子，默认为空\n",
    "selection： 可选值\"random\"和\"cyclic\"， 默认为cyclic；给定模型训练参数过程中的特征参数更新过程，random表示每次迭代都随机的更新一个参数，cyclic表示按照特征的循环进行更新处理。random可以加快收敛速度，但是cyclic更加稳定。\n",
    "copy_X: 在进行模型训练的时候，是否copy一个X的特征矩阵来进行模型训练。默认为False\n",
    "\"\"\"\n",
    "# 1. 算法/模型对象构建\n",
    "en = ElasticNet(alpha=1.0, l1_ratio=0.5, fit_intercept=True,\n",
    "                normalize=False, precompute=False, max_iter=1000,\n",
    "                copy_X=True, tol=1e-4, warm_start=False, positive=False,\n",
    "                random_state=None, selection='cyclic')\n",
    "\n",
    "\"\"\"\n",
    "参数说明：\n",
    "x: 给定模型训练的X数据，是一个矩阵类型\n",
    "y: 给定模型训练的Y数据，也是一个矩阵类型\n",
    "check_input: 是否检查输入数据，默认是True，进行检查\n",
    "\"\"\"\n",
    "# 2. 算法/模型对象训练\n",
    "en.fit(x, y)\n",
    "\n",
    "\"\"\"\n",
    "属性说明：\n",
    "coef_: 参数值，也就是训练出来的theta值列表\n",
    "intercept_：截距项\n",
    "n_iter_: 迭代次数\n",
    "\"\"\"\n",
    "# 3. 算法/模型对象相关属性输出\n",
    "print(\"参数列表:\", end=\"\")\n",
    "print(en.coef_)\n",
    "print(\"截距项:\", end=\"\")\n",
    "print(en.intercept_)\n",
    "print(\"迭代次数:\", end=\"\")\n",
    "print(en.n_iter_)\n",
    "\n",
    "# 4. 画图\n",
    "plt.plot(x, y, 'bo', markersize=2)\n",
    "plt.plot(x, en.predict(x), 'y-', lw=2)\n",
    "plt.show()"
   ]
  },
  {
   "cell_type": "code",
   "execution_count": null,
   "metadata": {
    "collapsed": true
   },
   "outputs": [],
   "source": []
  }
 ],
 "metadata": {
  "kernelspec": {
   "display_name": "Python 3",
   "language": "python",
   "name": "python3"
  },
  "language_info": {
   "codemirror_mode": {
    "name": "ipython",
    "version": 3
   },
   "file_extension": ".py",
   "mimetype": "text/x-python",
   "name": "python",
   "nbconvert_exporter": "python",
   "pygments_lexer": "ipython3",
   "version": "3.6.0"
  }
 },
 "nbformat": 4,
 "nbformat_minor": 2
}
