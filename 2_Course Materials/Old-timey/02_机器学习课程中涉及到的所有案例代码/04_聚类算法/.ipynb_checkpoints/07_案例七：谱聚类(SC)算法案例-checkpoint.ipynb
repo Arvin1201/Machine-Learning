{
 "cells": [
  {
   "cell_type": "code",
   "execution_count": 7,
   "metadata": {
    "collapsed": false
   },
   "outputs": [],
   "source": [
    "import numpy as np\n",
    "import matplotlib as mpl\n",
    "import matplotlib.pyplot as plt\n",
    "import sklearn.datasets as ds\n",
    "import matplotlib.colors\n",
    "import warnings\n",
    "from sklearn.cluster import spectral_clustering#引入谱聚类\n",
    "from sklearn.preprocessing import StandardScaler\n",
    "from sklearn.metrics import euclidean_distances"
   ]
  },
  {
   "cell_type": "code",
   "execution_count": 8,
   "metadata": {
    "collapsed": false
   },
   "outputs": [],
   "source": [
    "## 设置属性防止中文乱码及拦截异常信息\n",
    "mpl.rcParams['font.sans-serif'] = [u'SimHei']\n",
    "mpl.rcParams['axes.unicode_minus'] = False"
   ]
  },
  {
   "cell_type": "code",
   "execution_count": 9,
   "metadata": {
    "collapsed": true
   },
   "outputs": [],
   "source": [
    "warnings.filterwarnings('ignore', category=FutureWarning)"
   ]
  },
  {
   "cell_type": "code",
   "execution_count": 10,
   "metadata": {
    "collapsed": false
   },
   "outputs": [],
   "source": [
    "### 创建模拟数据\n",
    "N = 1000\n",
    "centers = [[1, 2], [-1, -1], [1, -1], [-1, 1]]\n",
    "#符合高斯分布的数据集\n",
    "data1, y1 = ds.make_blobs(N, n_features=2, centers=centers, cluster_std=(0.75,0.5,0.3,0.25), random_state=0)\n",
    "data1 = StandardScaler().fit_transform(data1)\n",
    "dist1 = euclidean_distances(data1, squared=True)\n",
    "# 权重计算公式\n",
    "affinity_params1 = map(lambda x: (x,np.exp(-dist1 ** 2 / (x ** 2)) + 1e-6), np.logspace(-2,0,6))\n",
    "\n",
    "# 数据2\n",
    "#圆形数据集\n",
    "t = np.arange(0, 2 * np.pi, 0.1)\n",
    "data2_1 = np.vstack((np.cos(t), np.sin(t))).T\n",
    "data2_2 = np.vstack((2*np.cos(t), 2*np.sin(t))).T\n",
    "data2_3 = np.vstack((3*np.cos(t), 3*np.sin(t))).T\n",
    "data2 = np.vstack((data2_1, data2_2, data2_3))\n",
    "y2 = np.vstack(([0] * len(data2_1), [1] * len(data2_2), [2] * len(data2_3)))\n",
    "## 数据2的参数\n",
    "dist2 = euclidean_distances(data2, squared=True)\n",
    "affinity_params2 = map(lambda x: (x, np.exp(-dist2 ** 2 / (x ** 2)) + 1e-6), np.logspace(-2,0,6))\n",
    "\n",
    "datasets = [(data1, y1, affinity_params1), (data2, y2, affinity_params2)]"
   ]
  },
  {
   "cell_type": "code",
   "execution_count": 11,
   "metadata": {
    "collapsed": true
   },
   "outputs": [],
   "source": [
    "def expandBorder(a, b):\n",
    "    d = (b - a) * 0.1\n",
    "    return a-d, b+d"
   ]
  },
  {
   "cell_type": "code",
   "execution_count": null,
   "metadata": {
    "collapsed": false
   },
   "outputs": [],
   "source": [
    "colors = ['r', 'g', 'b', 'y']\n",
    "cm = mpl.colors.ListedColormap(colors)\n",
    "\n",
    "for i,(X, y, params) in enumerate(datasets):\n",
    "    x1_min, x2_min = np.min(X, axis=0)\n",
    "    x1_max, x2_max = np.max(X, axis=0)\n",
    "    x1_min, x1_max = expandBorder(x1_min, x1_max)\n",
    "    x2_min, x2_max = expandBorder(x2_min, x2_max)\n",
    "    n_clusters = len(np.unique(y))\n",
    "    plt.figure(figsize=(12, 8), facecolor='w')\n",
    "    plt.suptitle(u'谱聚类--数据%d' % (i+1), fontsize=20)\n",
    "    plt.subplots_adjust(top=0.9,hspace=0.35)\n",
    "    \n",
    "    for j,param in enumerate(params):\n",
    "        sigma,af = param\n",
    "        #谱聚类的建模\n",
    "        y_hat = spectral_clustering(af, n_clusters=n_clusters, assign_labels='kmeans', random_state=28)\n",
    "        unique_y_hat = np.unique(y_hat)\n",
    "        n_clusters = len(unique_y_hat) - (1 if -1 in y_hat else 0)\n",
    "        print (\"类别:\",unique_y_hat,\"；聚类簇数目:\",n_clusters)\n",
    "        \n",
    "        ## 开始画图\n",
    "        plt.subplot(3,3,j+1)\n",
    "        for k, col in zip(unique_y_hat, colors):\n",
    "            cur = (y_hat == k)\n",
    "            plt.scatter(X[cur, 0], X[cur, 1], s=40, c=col, edgecolors='k')\n",
    "        plt.xlim((x1_min, x1_max))\n",
    "        plt.ylim((x2_min, x2_max))\n",
    "        plt.grid(True)\n",
    "        plt.title('$\\sigma$ = %.2f ，聚类簇数目：%d' % (sigma, n_clusters), fontsize=16)\n",
    "\n",
    "    plt.subplot(3,3,7)\n",
    "    plt.scatter(X[:, 0], X[:, 1], c=y, s=30, cmap=cm, edgecolors='none')\n",
    "    plt.xlim((x1_min, x1_max))\n",
    "    plt.ylim((x2_min, x2_max))\n",
    "    plt.title('原始数据，聚类簇数目:%d' % len(np.unique(y)))\n",
    "    plt.grid(True)\n",
    "    plt.show()  \n"
   ]
  },
  {
   "cell_type": "code",
   "execution_count": null,
   "metadata": {
    "collapsed": true
   },
   "outputs": [],
   "source": []
  },
  {
   "cell_type": "code",
   "execution_count": null,
   "metadata": {
    "collapsed": true
   },
   "outputs": [],
   "source": []
  },
  {
   "cell_type": "code",
   "execution_count": null,
   "metadata": {
    "collapsed": true
   },
   "outputs": [],
   "source": []
  }
 ],
 "metadata": {
  "kernelspec": {
   "display_name": "Python 3",
   "language": "python",
   "name": "python3"
  },
  "language_info": {
   "codemirror_mode": {
    "name": "ipython",
    "version": 3
   },
   "file_extension": ".py",
   "mimetype": "text/x-python",
   "name": "python",
   "nbconvert_exporter": "python",
   "pygments_lexer": "ipython3",
   "version": "3.6.0"
  }
 },
 "nbformat": 4,
 "nbformat_minor": 0
}
