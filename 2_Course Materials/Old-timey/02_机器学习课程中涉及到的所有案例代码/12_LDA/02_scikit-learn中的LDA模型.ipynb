{
 "cells": [
  {
   "cell_type": "code",
   "execution_count": 9,
   "metadata": {
    "collapsed": false
   },
   "outputs": [
    {
     "name": "stdout",
     "output_type": "stream",
     "text": [
      "['北风网 大数据 人工智能 数据 分析师', '坐标轴 下降 法 利用 EM 算法 的 思想 在 参数 更新 过程  每次 均 先 固定  个 参数值 求解 剩下 的 一个 参数 的 局部 最优解 然后 进行 迭代式 的 更新 操作', '北风网 IT Spark 大数据 股份 公司 ']\n"
     ]
    }
   ],
   "source": [
    "# 加载数据\n",
    "with open('./1.txt') as f1:\n",
    "    res1 = f1.read()\n",
    "with open('./2.txt') as f2:\n",
    "    res2 = f2.read()\n",
    "with open('./3.txt') as f3:\n",
    "    res3 = f3.read()\n",
    "contents = [res1, res2, res3]\n",
    "print(contents)"
   ]
  },
  {
   "cell_type": "code",
   "execution_count": 15,
   "metadata": {
    "collapsed": false
   },
   "outputs": [],
   "source": [
    "from sklearn.feature_extraction.text import CountVectorizer\n",
    "from sklearn.decomposition import LatentDirichletAllocation"
   ]
  },
  {
   "cell_type": "code",
   "execution_count": 14,
   "metadata": {
    "collapsed": false
   },
   "outputs": [
    {
     "name": "stdout",
     "output_type": "stream",
     "text": [
      "(3, 30)\n",
      "[[0 0 0 0 0 1 0 1 0 0 1 0 0 0 0 1 0 0 0 1 0 0 0 0 0 0 0 0 0 0]\n",
      " [1 0 0 1 1 0 0 0 1 1 0 2 1 1 1 0 1 1 1 0 2 1 1 1 1 1 0 1 1 1]\n",
      " [0 1 1 0 0 0 1 0 0 0 1 0 0 0 0 1 0 0 0 0 0 0 0 0 0 0 1 0 0 0]]\n"
     ]
    }
   ],
   "source": [
    "# 将文本数据转换为向量的形式(词袋法) 要求给定的数据中单词是以空格隔开的\n",
    "cntVector = CountVectorizer()\n",
    "cnt = cntVector.fit_transform(contents)\n",
    "print(cnt.shape)\n",
    "print(cnt.toarray())"
   ]
  },
  {
   "cell_type": "code",
   "execution_count": 17,
   "metadata": {
    "collapsed": false
   },
   "outputs": [],
   "source": [
    "# LDA主题模型构建\n",
    "# learning_method：指定一部分一部分的文档进行模型的学习\n",
    "lda = LatentDirichletAllocation(n_topics=2, learning_method='batch')\n",
    "docs = lda.fit_transform(cnt)"
   ]
  },
  {
   "cell_type": "code",
   "execution_count": 19,
   "metadata": {
    "collapsed": false,
    "scrolled": true
   },
   "outputs": [
    {
     "name": "stdout",
     "output_type": "stream",
     "text": [
      "[[0.08519027 0.91480973]\n",
      " [0.97793105 0.02206895]\n",
      " [0.07308573 0.92691427]]\n",
      "[[1.49859323 0.50230576 0.50230576 1.49859323 1.49859323 0.5027665\n",
      "  0.50230576 0.5027665  1.49859323 1.49859323 0.50260514 2.49855509\n",
      "  1.49859323 1.49859323 1.49859323 0.50260514 1.49859323 1.49859323\n",
      "  1.49859323 0.5027665  2.49855509 1.49859323 1.49859323 1.49859323\n",
      "  1.49859323 1.49859323 0.50230576 1.49859323 1.49859323 1.49859323]\n",
      " [0.50140677 1.49769424 1.49769424 0.50140677 0.50140677 1.4972335\n",
      "  1.49769424 1.4972335  0.50140677 0.50140677 2.49739486 0.50144491\n",
      "  0.50140677 0.50140677 0.50140677 2.49739486 0.50140677 0.50140677\n",
      "  0.50140677 1.4972335  0.50144491 0.50140677 0.50140677 0.50140677\n",
      "  0.50140677 0.50140677 1.49769424 0.50140677 0.50140677 0.50140677]]\n"
     ]
    }
   ],
   "source": [
    "# 打印文档和主题之间的相关性\n",
    "print(docs)\n",
    "# 打印主题和词之间的相关性\n",
    "print(lda.components_)"
   ]
  },
  {
   "cell_type": "code",
   "execution_count": null,
   "metadata": {
    "collapsed": true
   },
   "outputs": [],
   "source": []
  }
 ],
 "metadata": {
  "kernelspec": {
   "display_name": "Python 3",
   "language": "python",
   "name": "python3"
  },
  "language_info": {
   "codemirror_mode": {
    "name": "ipython",
    "version": 3
   },
   "file_extension": ".py",
   "mimetype": "text/x-python",
   "name": "python",
   "nbconvert_exporter": "python",
   "pygments_lexer": "ipython3",
   "version": "3.6.0"
  }
 },
 "nbformat": 4,
 "nbformat_minor": 2
}
